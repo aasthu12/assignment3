{
 "cells": [
  {
   "cell_type": "code",
   "execution_count": null,
   "id": "8e3e4a1c",
   "metadata": {},
   "outputs": [],
   "source": [
    "'''q1.Why are functions advantageous to have in your programs?\n",
    "a1. Functions help in reducing the need to rewrite duplicate codes. In other words,\n",
    "once a function is defined , we can call it and re use it again and again without\n",
    "having to rewrite it. Defining a function helps in making programming less time\n",
    "consuming and shorter'''"
   ]
  },
  {
   "cell_type": "code",
   "execution_count": null,
   "id": "e7773bac",
   "metadata": {},
   "outputs": [],
   "source": [
    "'''q2.When does the code in a function run: when it's specified or when it's called?\n",
    "a2. The code in a function will run when it is called not when it is specified.'''"
   ]
  },
  {
   "cell_type": "code",
   "execution_count": 2,
   "id": "06d6ae0a",
   "metadata": {},
   "outputs": [
    {
     "data": {
      "text/plain": [
       "88"
      ]
     },
     "execution_count": 2,
     "metadata": {},
     "output_type": "execute_result"
    }
   ],
   "source": [
    "'''q3.What statement creates a function?\n",
    "a3. the \"define\" statement creates a function. For example if we want to create \n",
    "a function for addition, we can do so in the following way -'''\n",
    "def addition(a,b):\n",
    "    c=a+b\n",
    "    return (c)\n",
    "addition(32,56)"
   ]
  },
  {
   "cell_type": "code",
   "execution_count": null,
   "id": "e82d9b08",
   "metadata": {},
   "outputs": [],
   "source": [
    "'''q4.What is the difference between a function and a function call?\n",
    "a4. A function contains a piece of code which can be reused again and again \n",
    "just by calling that particular function whereas a function call is when \n",
    "we try to use a pre specified function in our program. For example-'''\n",
    "def addition(a,b): #specifying a function named addition#\n",
    "    c=a+b\n",
    "    return (c)\n",
    "addition(32,56)   #calling the function named addition#"
   ]
  },
  {
   "cell_type": "code",
   "execution_count": null,
   "id": "03e64fd2",
   "metadata": {},
   "outputs": [],
   "source": [
    "'''q5.How many global scopes are there in a Python program? How many local scopes?\n",
    "a5. The variables that are defined outside a function in a python program have \n",
    "global scope whereas variables that are defined within a funtion have local scope\n",
    "and can only be used within that function. Every python program has only one global \n",
    "scope which exists until the program is terminated after which the variables are \n",
    "forgotten.'''"
   ]
  },
  {
   "cell_type": "code",
   "execution_count": null,
   "id": "220b4327",
   "metadata": {},
   "outputs": [],
   "source": [
    "'''q6.What happens to variables in a local scope when the function call returns?\n",
    "a6. After the function call returns the variables in the local scope of that \n",
    "functions are forgotten or destroyed.'''"
   ]
  },
  {
   "cell_type": "code",
   "execution_count": 2,
   "id": "b9043a6e",
   "metadata": {},
   "outputs": [
    {
     "name": "stdout",
     "output_type": "stream",
     "text": [
      "41\n"
     ]
    }
   ],
   "source": [
    "'''q7.What is the concept of a return value?Is it possible to have a\n",
    "return value in an expression?\n",
    "a7.Return Value means the value a function or expression will give \n",
    "after its execution is completed. When a function is created , it may have \n",
    "several operations or computations and the final result is known as the return \n",
    "value. \n",
    "It is possible to have a return value in an expression as we can directly use \n",
    "a return value of a function in another code without having to assign it to a \n",
    "separate variable.for example-'''\n",
    "def addition(a,b):\n",
    "    c=a+b\n",
    "    return (c)\n",
    "result= addition(45,32)-addition(12,24)\n",
    "print (result)"
   ]
  },
  {
   "cell_type": "code",
   "execution_count": null,
   "id": "605ef822",
   "metadata": {},
   "outputs": [],
   "source": [
    "'''q8.If a function does not have a return statement, what is the return value \n",
    "of a call to that function?\n",
    "a8. If a function does ot have a return statement ,  python automatically gives\n",
    "the return value to that function as \"None\" which represents the absence of a \n",
    "value.'''"
   ]
  },
  {
   "cell_type": "code",
   "execution_count": null,
   "id": "29a1c5e8",
   "metadata": {},
   "outputs": [],
   "source": [
    "'''q9.How do you make a function variable refer to the global variable?\n",
    "a9. If we want to make a function variable refer to a global variable we can use\n",
    "the 'global' keyword '''"
   ]
  },
  {
   "cell_type": "code",
   "execution_count": 3,
   "id": "fcf44f73",
   "metadata": {},
   "outputs": [
    {
     "name": "stdout",
     "output_type": "stream",
     "text": [
      "<class 'NoneType'>\n"
     ]
    }
   ],
   "source": [
    "'''q10.What is the data type of None?\n",
    "a10. None is a special value that represents the absence of a value or a \n",
    "null value. It's datatype is 'NoneType' datatype'''\n",
    "value= None\n",
    "print(type(value))"
   ]
  },
  {
   "cell_type": "code",
   "execution_count": 4,
   "id": "4194a52c",
   "metadata": {},
   "outputs": [
    {
     "ename": "ModuleNotFoundError",
     "evalue": "No module named 'areallyourpetsnamederic'",
     "output_type": "error",
     "traceback": [
      "\u001b[1;31m---------------------------------------------------------------------------\u001b[0m",
      "\u001b[1;31mModuleNotFoundError\u001b[0m                       Traceback (most recent call last)",
      "Cell \u001b[1;32mIn[4], line 3\u001b[0m\n\u001b[0;32m      1\u001b[0m \u001b[38;5;124;03m'''q11.What does the sentence import areallyourpetsnamederic do?\u001b[39;00m\n\u001b[0;32m      2\u001b[0m \u001b[38;5;124;03ma11. The above sentence will do the following-'''\u001b[39;00m\n\u001b[1;32m----> 3\u001b[0m \u001b[38;5;28;01mimport\u001b[39;00m \u001b[38;5;21;01mareallyourpetsnamederic\u001b[39;00m\n",
      "\u001b[1;31mModuleNotFoundError\u001b[0m: No module named 'areallyourpetsnamederic'"
     ]
    }
   ],
   "source": [
    "'''q11.What does the sentence import areallyourpetsnamederic do?\n",
    "a11. Import is a keyword which we use to import libraries or modules into a program.\n",
    "As the above name (areallyourpetsnamederic) has no meaning in python, if we \n",
    "import it, we will be given an error as shown below.'''\n",
    "import areallyourpetsnamederic"
   ]
  },
  {
   "cell_type": "code",
   "execution_count": null,
   "id": "6450dd60",
   "metadata": {},
   "outputs": [],
   "source": [
    "'''q12.If you had a bacon() feature in a spam module,\n",
    "what would you call it after importing spam?\n",
    "a12. If we had a bacon() feature in a spam module , we can call it by writing \n",
    "spam.bacon() after importing the math module.'''\n"
   ]
  },
  {
   "cell_type": "code",
   "execution_count": 11,
   "id": "c7670367",
   "metadata": {},
   "outputs": [
    {
     "name": "stdout",
     "output_type": "stream",
     "text": [
      "please enter 1st number20\n",
      "please enter 2nd number0\n",
      "denominator should not be zero\n",
      "please enter 1st number21\n",
      "please enter 2nd number3\n",
      "7.0\n"
     ]
    }
   ],
   "source": [
    "'''q13.What can you do to save a programme from crashing if\n",
    "it encounters an error?\n",
    "a13. We can save a program from clashing by using try and except blocks. \n",
    "When we suspect that a code might get an error at a particular statement or \n",
    "operation, we can keep those statements or operations within the try block. \n",
    "The except block contains the simple instructions which can help the user to \n",
    "rectify the error without crashing the program. For example-'''\n",
    "while True:\n",
    "    a=int(input(\"please enter 1st number\"))\n",
    "    b=int(input(\"please enter 2nd number\"))\n",
    "    try:\n",
    "        c=a/b\n",
    "        print(c)\n",
    "        break\n",
    "    except ZeroDivisionError :\n",
    "        print(\"denominator should not be zero\")\n",
    "    "
   ]
  },
  {
   "cell_type": "code",
   "execution_count": 12,
   "id": "762e2292",
   "metadata": {},
   "outputs": [
    {
     "name": "stdout",
     "output_type": "stream",
     "text": [
      "please enter 1st number30\n",
      "please enter 2nd number0\n",
      "denominator should not be zero\n",
      "please enter 1st number45\n",
      "please enter 2nd number9\n",
      "5.0\n"
     ]
    }
   ],
   "source": [
    "'''q14.What is the purpose of the try clause?\n",
    "What is the purpose of the except clause?\n",
    "a14.When we suspect that a code might get an error at a particular statement or \n",
    "operation, we can keep those statements or operations within the try block. \n",
    "The except block contains the simple instructions which can help the user to \n",
    "rectify the error without crashing the program. For example-'''\n",
    "while True:\n",
    "    a=int(input(\"please enter 1st number\"))\n",
    "    b=int(input(\"please enter 2nd number\"))\n",
    "    try:\n",
    "        c=a/b\n",
    "        print(c)\n",
    "        break\n",
    "    except ZeroDivisionError :\n",
    "        print(\"denominator should not be zero\")\n",
    "    "
   ]
  },
  {
   "cell_type": "code",
   "execution_count": null,
   "id": "982a1ecc",
   "metadata": {},
   "outputs": [],
   "source": []
  }
 ],
 "metadata": {
  "kernelspec": {
   "display_name": "Python 3 (ipykernel)",
   "language": "python",
   "name": "python3"
  },
  "language_info": {
   "codemirror_mode": {
    "name": "ipython",
    "version": 3
   },
   "file_extension": ".py",
   "mimetype": "text/x-python",
   "name": "python",
   "nbconvert_exporter": "python",
   "pygments_lexer": "ipython3",
   "version": "3.10.9"
  }
 },
 "nbformat": 4,
 "nbformat_minor": 5
}
